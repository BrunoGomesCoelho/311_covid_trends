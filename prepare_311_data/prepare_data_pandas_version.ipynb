{
 "cells": [
  {
   "cell_type": "markdown",
   "metadata": {
    "toc": true
   },
   "source": [
    "<h1>Table of Contents<span class=\"tocSkip\"></span></h1>\n",
    "<div class=\"toc\"><ul class=\"toc-item\"></ul></div>"
   ]
  },
  {
   "cell_type": "code",
   "execution_count": null,
   "metadata": {},
   "outputs": [],
   "source": [
    "!python3 -m pip install \"dask[complete]\""
   ]
  },
  {
   "cell_type": "code",
   "execution_count": 12,
   "metadata": {},
   "outputs": [],
   "source": [
    "from dask.distributed import Client, LocalCluster\n",
    "from dask import dataframe as dd\n",
    "import pandas as pd\n",
    "import time"
   ]
  },
  {
   "cell_type": "code",
   "execution_count": null,
   "metadata": {},
   "outputs": [
    {
     "name": "stdout",
     "output_type": "stream",
     "text": [
      "Start time 0: 1607205125.9379709\n"
     ]
    }
   ],
   "source": [
    "N_REPS = 1\n",
    "DATA_DIR = \"../data/\"\n",
    "COMPLAINTS_NAME = \"complaints_python_script.csv\"\n",
    "ZIP_NAME = \"zip_zcta_python_script.csv\"\n",
    "OUTPUT_NAME = \"311_reduced_python_script.csv\"\n",
    "USE_DASK = False\n",
    "TESTING = False\n",
    "\n",
    "# Setup general parametes\n",
    "save_params = dict(index=False, na_rep=\"null\", date_format=\"%m/%d/%Y %I:%M:%S %p\")\n",
    "read_params = dict(\n",
    "        usecols=list(rename_dict.keys()),\n",
    "        parse_dates=[\"Created Date\"], \n",
    "        dtype={'Incident Zip': 'object'},\n",
    "        low_memory=False,\n",
    ")\n",
    "\n",
    "# Get around different reading/merging functions later on\n",
    "custom_read_func = dd.read_csv if USE_DASK else pd.read_csv\n",
    "custom_merge_func = dd.merge if USE_DASK else pd.merge\n",
    "\n",
    "# Dask/Pandas specific parameters\n",
    "if USE_DASK:\n",
    "    cluster = LocalCluster()\n",
    "    client = Client(cluster)\n",
    "    save_params[\"single_file\"] = True\n",
    "elif TESTING:\n",
    "    read_params[\"nrows\"] = 1000\n",
    "\n",
    "rename_dict = {  # We are only interested in some columns\n",
    "    \"Created Date\": \"date\",\n",
    "    \"Complaint Type\": \"type\",\n",
    "    \"Descriptor\": \"descriptor\",\n",
    "    \"Incident Zip\": \"zip\"\n",
    "}\n",
    "\n",
    "all_times = []\n",
    "for i in range(N_REPS):\n",
    "    # Setup\n",
    "    start_time = time.time()\n",
    "    print(f\"Start time {i}:\", start_time)\n",
    "\n",
    "    # Read data\n",
    "    df = custom_read_func(DATA_DIR+COMPLAINTS_NAME, **read_params)\n",
    "    if USE_DASK and TESTING:  # Dask doesn't have nrows parameter\n",
    "        df = df.head(n=1000) \n",
    "    zips = custom_read_func(DATA_DIR+ZIP_NAME, dtype={'zip': 'object'})\n",
    "\n",
    "    # Rename, filter valid dates, join and save.\n",
    "    df = df.rename(columns=rename_dict)\n",
    "    df.query(\"date >= '12/01/2010' and date < '11/01/2020'\", inplace=True)\n",
    "    merged = custom_merge_func(df, zips, on=\"zip\", how=\"inner\").drop(columns=[\"zip\"])\n",
    "    merged.to_csv(DATA_DIR+OUTPUT_NAME, **save_params)\n",
    "    \n",
    "    # Log\n",
    "    end_time = time.time()\n",
    "    all_times.append(end_time-start_time)\n",
    "    print(f\"End time {i}:\", end_time)\n",
    "    print(\"\\n\")\n",
    "\n",
    "if USE_DASK:\n",
    "    client.close()"
   ]
  },
  {
   "cell_type": "code",
   "execution_count": null,
   "metadata": {},
   "outputs": [],
   "source": [
    "# Uses 30 GB RAM"
   ]
  },
  {
   "cell_type": "code",
   "execution_count": null,
   "metadata": {},
   "outputs": [],
   "source": []
  },
  {
   "cell_type": "code",
   "execution_count": null,
   "metadata": {},
   "outputs": [],
   "source": []
  },
  {
   "cell_type": "code",
   "execution_count": 7,
   "metadata": {},
   "outputs": [
    {
     "name": "stdout",
     "output_type": "stream",
     "text": [
      "Dask took 30.17 minutes\n"
     ]
    }
   ],
   "source": [
    "# Uses at most ~GB RAM\n",
    "print(f\"Dask took {1810/60:.2f} minutes\")"
   ]
  },
  {
   "cell_type": "code",
   "execution_count": null,
   "metadata": {},
   "outputs": [],
   "source": []
  }
 ],
 "metadata": {
  "kernelspec": {
   "display_name": "Python 3",
   "language": "python",
   "name": "python3"
  },
  "language_info": {
   "codemirror_mode": {
    "name": "ipython",
    "version": 3
   },
   "file_extension": ".py",
   "mimetype": "text/x-python",
   "name": "python",
   "nbconvert_exporter": "python",
   "pygments_lexer": "ipython3",
   "version": "3.6.9"
  },
  "toc": {
   "base_numbering": 1,
   "nav_menu": {},
   "number_sections": false,
   "sideBar": true,
   "skip_h1_title": false,
   "title_cell": "Table of Contents",
   "title_sidebar": "Contents",
   "toc_cell": true,
   "toc_position": {},
   "toc_section_display": true,
   "toc_window_display": false
  }
 },
 "nbformat": 4,
 "nbformat_minor": 2
}
