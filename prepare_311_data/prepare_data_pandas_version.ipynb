{
 "cells": [
  {
   "cell_type": "markdown",
   "metadata": {
    "toc": true
   },
   "source": [
    "<h1>Table of Contents<span class=\"tocSkip\"></span></h1>\n",
    "<div class=\"toc\"><ul class=\"toc-item\"></ul></div>"
   ]
  },
  {
   "cell_type": "code",
   "execution_count": null,
   "metadata": {},
   "outputs": [],
   "source": [
    "#!python3 -m pip install \"dask[complete]\""
   ]
  },
  {
   "cell_type": "code",
   "execution_count": 1,
   "metadata": {},
   "outputs": [],
   "source": [
    "from dask.distributed import Client, LocalCluster\n",
    "from dask import dataframe as dd\n",
    "import pandas as pd\n",
    "import sys\n",
    "import time\n",
    "\n",
    "sys.path.append(\"..\")\n",
    "from utils import my_print"
   ]
  },
  {
   "cell_type": "code",
   "execution_count": 3,
   "metadata": {},
   "outputs": [
    {
     "name": "stdout",
     "output_type": "stream",
     "text": [
      "Iteration 0: Start time epoch (s): 1607638107.2230413\n",
      "Iteration 0: Time taken reading data (s): 3401\n",
      "Iteration 0: Time taken reading data (s): 0\n",
      "Iteration 0: Total time (s): 3555\n"
     ]
    }
   ],
   "source": [
    "N_REPS = 1\n",
    "DATA_DIR = \"../data/\"\n",
    "COMPLAINTS_NAME = \"complaints_python_script.csv\"\n",
    "ZIP_NAME = \"zip_zcta_python_script.csv\"\n",
    "OUTPUT_NAME = \"311_reduced_python_script.csv\"\n",
    "USE_DASK = False\n",
    "TESTING = False\n",
    "\n",
    "# Setup general parametes\n",
    "rename_dict = {  # We are only interested in some columns\n",
    "    \"Created Date\": \"date\",\n",
    "    \"Complaint Type\": \"type\",\n",
    "    \"Descriptor\": \"descriptor\",\n",
    "    \"Incident Zip\": \"zip\"\n",
    "}\n",
    "save_params = dict(index=False, na_rep=\"null\") #, date_format=\"%m/%d/%Y %I:%M:%S %p\")\n",
    "read_params = dict(\n",
    "        usecols=list(rename_dict.keys()),\n",
    "        parse_dates=[\"Created Date\"], \n",
    "        dtype={'Incident Zip': 'object'},\n",
    "        low_memory=False,\n",
    ")\n",
    "\n",
    "# Get around different reading/merging functions later on\n",
    "custom_read_func = dd.read_csv if USE_DASK else pd.read_csv\n",
    "custom_merge_func = dd.merge if USE_DASK else pd.merge\n",
    "\n",
    "# Dask/Pandas specific parameters\n",
    "if USE_DASK:\n",
    "    cluster = LocalCluster()\n",
    "    client = Client(cluster)\n",
    "    save_params[\"single_file\"] = True\n",
    "elif TESTING:\n",
    "    read_params[\"nrows\"] = 1000\n",
    "\n",
    "\n",
    "all_times = []\n",
    "for i in range(N_REPS):\n",
    "    # Setup\n",
    "    start_time = time.time()\n",
    "    past_time = my_print(iteration=i, text=\"Start time epoch\", \n",
    "                     past_time=start_time, use_duration=False)\n",
    "    # Read data\n",
    "    df = custom_read_func(DATA_DIR+COMPLAINTS_NAME, **read_params)\n",
    "    # This is faster than reading it as a date\n",
    "    df[\"Created Date\"] = pd.to_datetime(df[\"Created Date\"], format=\"%m/%d/%Y %H:%M:%S %p\")\n",
    "    past_time = my_print(iteration=i, text=\"Time taken reading data\", past_time=past_time)\n",
    "    \n",
    "    if USE_DASK and TESTING:  # Dask doesn't have nrows parameter\n",
    "        df = df.head(n=1000) \n",
    "    zips = custom_read_func(DATA_DIR+ZIP_NAME, dtype={'zip': 'object'})\n",
    "    \n",
    "    # log\n",
    "    past_time = my_print(iteration=i, text=\"Time taken reading data\", past_time=past_time)\n",
    "\n",
    "    # Rename, filter valid dates, join and save.\n",
    "    df = df.rename(columns=rename_dict)\n",
    "    df.query(\"date >= '12/01/2010' and date < '11/01/2020'\", inplace=True)\n",
    "    merged = custom_merge_func(df, zips, on=\"zip\", how=\"inner\").drop(columns=[\"zip\"])\n",
    "    merged.to_csv(DATA_DIR+OUTPUT_NAME, **save_params)\n",
    "    \n",
    "    # Log\n",
    "    past_time = my_print(iteration=i, text=\"Total time\", past_time=start_time)\n",
    "    all_times.append(int(past_time-start_time))\n",
    "\n",
    "if USE_DASK:\n",
    "    client.close()"
   ]
  },
  {
   "cell_type": "code",
   "execution_count": 6,
   "metadata": {},
   "outputs": [
    {
     "data": {
      "text/plain": [
       "[3555]"
      ]
     },
     "execution_count": 6,
     "metadata": {},
     "output_type": "execute_result"
    }
   ],
   "source": [
    "all_times"
   ]
  },
  {
   "cell_type": "code",
   "execution_count": 7,
   "metadata": {},
   "outputs": [
    {
     "data": {
      "text/plain": [
       "0.9566807313642757"
      ]
     },
     "execution_count": 7,
     "metadata": {},
     "output_type": "execute_result"
    }
   ],
   "source": [
    "3401/3555"
   ]
  },
  {
   "cell_type": "code",
   "execution_count": 14,
   "metadata": {},
   "outputs": [],
   "source": [
    "# Uses 30 GB RAM"
   ]
  },
  {
   "cell_type": "code",
   "execution_count": 4,
   "metadata": {},
   "outputs": [
    {
     "data": {
      "text/plain": [
       "124"
      ]
     },
     "execution_count": 4,
     "metadata": {},
     "output_type": "execute_result"
    }
   ],
   "source": [
    "2*60 + 4"
   ]
  },
  {
   "cell_type": "code",
   "execution_count": 5,
   "metadata": {},
   "outputs": [
    {
     "data": {
      "text/plain": [
       "215"
      ]
     },
     "execution_count": 5,
     "metadata": {},
     "output_type": "execute_result"
    }
   ],
   "source": [
    "3*60 + 35"
   ]
  },
  {
   "cell_type": "code",
   "execution_count": 7,
   "metadata": {},
   "outputs": [
    {
     "name": "stdout",
     "output_type": "stream",
     "text": [
      "Dask took 30.17 minutes\n"
     ]
    }
   ],
   "source": [
    "# Uses at most ~GB RAM\n",
    "print(f\"Dask took {1810/60:.2f} minutes\")"
   ]
  },
  {
   "cell_type": "code",
   "execution_count": null,
   "metadata": {},
   "outputs": [],
   "source": []
  }
 ],
 "metadata": {
  "kernelspec": {
   "display_name": "Python 3",
   "language": "python",
   "name": "python3"
  },
  "language_info": {
   "codemirror_mode": {
    "name": "ipython",
    "version": 3
   },
   "file_extension": ".py",
   "mimetype": "text/x-python",
   "name": "python",
   "nbconvert_exporter": "python",
   "pygments_lexer": "ipython3",
   "version": "3.6.9"
  },
  "toc": {
   "base_numbering": 1,
   "nav_menu": {},
   "number_sections": false,
   "sideBar": true,
   "skip_h1_title": false,
   "title_cell": "Table of Contents",
   "title_sidebar": "Contents",
   "toc_cell": true,
   "toc_position": {},
   "toc_section_display": true,
   "toc_window_display": false
  }
 },
 "nbformat": 4,
 "nbformat_minor": 2
}
