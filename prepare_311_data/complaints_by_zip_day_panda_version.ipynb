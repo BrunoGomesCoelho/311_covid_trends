{
 "cells": [
  {
   "cell_type": "markdown",
   "metadata": {
    "toc": true
   },
   "source": [
    "<h1>Table of Contents<span class=\"tocSkip\"></span></h1>\n",
    "<div class=\"toc\"><ul class=\"toc-item\"></ul></div>"
   ]
  },
  {
   "cell_type": "code",
   "execution_count": null,
   "metadata": {},
   "outputs": [],
   "source": [
    "!python3 -m pip install \"dask[complete]\""
   ]
  },
  {
   "cell_type": "code",
   "execution_count": 33,
   "metadata": {},
   "outputs": [],
   "source": [
    "# we don't even try using dask since everything fits in memory\n",
    "import pandas as pd\n",
    "import time"
   ]
  },
  {
   "cell_type": "code",
   "execution_count": null,
   "metadata": {},
   "outputs": [
    {
     "name": "stdout",
     "output_type": "stream",
     "text": [
      "Start time 0: 1607206342.1960335\n"
     ]
    }
   ],
   "source": [
    "N_REPS = 1\n",
    "DATA_DIR = \"../data/\"\n",
    "REDUCED_311 = \"311_reduced_pyspark.csv\"\n",
    "OUTPUT_NAME = \"complaints_by_zip_day_python_script.csv\"\n",
    "TESTING = False\n",
    "\n",
    "if TESTING:\n",
    "    REDUCED_311 = \"311_reduced_pyspark_sample.csv\"\n",
    "\n",
    "all_times = []\n",
    "for i in range(N_REPS):\n",
    "    # Setup\n",
    "    start_time = time.time()\n",
    "    print(f\"Start time {i}:\", start_time)\n",
    "    df = pd.read_csv(\n",
    "        # Set date as index to allow groupby later\n",
    "        DATA_DIR+REDUCED_311, index_col=\"date\", parse_dates=[\"date\"], \n",
    "        dtype={\"zcta\": \"object\"}, low_memory=False,\n",
    "    )\n",
    "    final = df.groupby([pd.Grouper(freq='D'), \"zcta\"], sort=True).size()\n",
    "    final.name = \"num_compaints\"\n",
    "    final.to_csv(DATA_DIR+OUTPUT_NAME)\n",
    "    end_time = time.time()\n",
    "    all_times.append(end_time-start_time)\n",
    "    print(f\"End time {i}:\", end_time)\n",
    "    print(\"\\n\")"
   ]
  },
  {
   "cell_type": "code",
   "execution_count": null,
   "metadata": {},
   "outputs": [],
   "source": [
    "# Approx 4 GB of RAM"
   ]
  },
  {
   "cell_type": "code",
   "execution_count": null,
   "metadata": {},
   "outputs": [],
   "source": []
  }
 ],
 "metadata": {
  "kernelspec": {
   "display_name": "Python 3",
   "language": "python",
   "name": "python3"
  },
  "language_info": {
   "codemirror_mode": {
    "name": "ipython",
    "version": 3
   },
   "file_extension": ".py",
   "mimetype": "text/x-python",
   "name": "python",
   "nbconvert_exporter": "python",
   "pygments_lexer": "ipython3",
   "version": "3.6.9"
  },
  "toc": {
   "base_numbering": 1,
   "nav_menu": {},
   "number_sections": false,
   "sideBar": true,
   "skip_h1_title": false,
   "title_cell": "Table of Contents",
   "title_sidebar": "Contents",
   "toc_cell": true,
   "toc_position": {},
   "toc_section_display": true,
   "toc_window_display": false
  }
 },
 "nbformat": 4,
 "nbformat_minor": 2
}
