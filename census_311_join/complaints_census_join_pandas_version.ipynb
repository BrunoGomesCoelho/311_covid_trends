{
 "cells": [
  {
   "cell_type": "markdown",
   "metadata": {
    "toc": true
   },
   "source": [
    "<h1>Table of Contents<span class=\"tocSkip\"></span></h1>\n",
    "<div class=\"toc\"><ul class=\"toc-item\"></ul></div>"
   ]
  },
  {
   "cell_type": "code",
   "execution_count": 19,
   "metadata": {},
   "outputs": [],
   "source": [
    "import pandas as pd\n",
    "import sys\n",
    "import time\n",
    "sys.path.append(\"..\")\n",
    "\n",
    "from utils import my_print"
   ]
  },
  {
   "cell_type": "code",
   "execution_count": 22,
   "metadata": {},
   "outputs": [
    {
     "name": "stdout",
     "output_type": "stream",
     "text": [
      "Iteration 0: Start time epoch (s): 1607642008.175904\n",
      "Iteration 0: Time taken reading data (s): 167\n",
      "Iteration 0: Time taken reading data (s): 0\n",
      "Iteration 0: Time taken merging data (s): 9\n",
      "Iteration 0: Time taken saving data (s): 96\n",
      "Iteration 0: Total time (s): 273\n",
      "\n",
      "\n",
      "\n"
     ]
    }
   ],
   "source": [
    "N_REPS = 1\n",
    "DATA_DIR = \"../data/\"\n",
    "CENSUS_NAME = \"census_data.csv\"\n",
    "REDUCED_311 = \"311_reduced_pyspark.csv\"\n",
    "OUTPUT_NAME = \"complaint_census_join_pandas_version.out\"\n",
    "TESTING = False\n",
    "\n",
    "if TESTING:\n",
    "    REDUCED_311 = \"311_reduced_pyspark_sample.csv\"\n",
    "\n",
    "all_times = []\n",
    "for i in range(N_REPS):\n",
    "    start_time = time.time()\n",
    "    past_time = my_print(iteration=i, text=\"Start time epoch\", \n",
    "                         past_time=start_time, use_duration=False)\n",
    "    # read data\n",
    "    complaints = pd.read_csv(\n",
    "        # Set date as index to allow groupby later\n",
    "        DATA_DIR+REDUCED_311, index_col=\"date\",\n",
    "        dtype={\"zcta\": \"object\"},low_memory=False,\n",
    "    )\n",
    "    # This is faster than reading it as a date\n",
    "    complaints.index = pd.to_datetime(complaints.index, format=\"%m/%d/%Y %H:%M:%S %p\")\n",
    "    past_time = my_print(iteration=i, text=\"Time taken reading data\", past_time=past_time)\n",
    "    \n",
    "    census_header = [\"us_code\", \"zcta\", \"value1\", \"value2\", \"value3\"]\n",
    "    census = pd.read_csv(DATA_DIR+CENSUS_NAME, names=census_header, \n",
    "                         dtype={\"zcta\": \"object\"})\n",
    "    past_time = my_print(iteration=i, text=\"Time taken reading data\", past_time=past_time)\n",
    "    \n",
    "    # merge\n",
    "    final = pd.merge(complaints, census, how=\"inner\", on=\"zcta\")\n",
    "    past_time = my_print(iteration=i, text=\"Time taken merging data\", past_time=past_time)\n",
    "    \n",
    "    # write \n",
    "    final.to_csv(DATA_DIR+OUTPUT_NAME)\n",
    "    past_time = my_print(iteration=i, text=\"Time taken saving data\", past_time=past_time)\n",
    "    \n",
    "    past_time = my_print(iteration=i, text=\"Total time\", past_time=start_time)\n",
    "    all_times.append(int(past_time-start_time))\n",
    "    print(\"\\n\\n\")"
   ]
  },
  {
   "cell_type": "code",
   "execution_count": null,
   "metadata": {},
   "outputs": [],
   "source": []
  }
 ],
 "metadata": {
  "kernelspec": {
   "display_name": "Python 3",
   "language": "python",
   "name": "python3"
  },
  "language_info": {
   "codemirror_mode": {
    "name": "ipython",
    "version": 3
   },
   "file_extension": ".py",
   "mimetype": "text/x-python",
   "name": "python",
   "nbconvert_exporter": "python",
   "pygments_lexer": "ipython3",
   "version": "3.6.9"
  },
  "toc": {
   "base_numbering": 1,
   "nav_menu": {},
   "number_sections": false,
   "sideBar": true,
   "skip_h1_title": false,
   "title_cell": "Table of Contents",
   "title_sidebar": "Contents",
   "toc_cell": true,
   "toc_position": {},
   "toc_section_display": true,
   "toc_window_display": false
  }
 },
 "nbformat": 4,
 "nbformat_minor": 2
}
