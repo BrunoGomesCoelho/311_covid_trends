{
 "cells": [
  {
   "cell_type": "markdown",
   "metadata": {
    "toc": true
   },
   "source": [
    "<h1>Table of Contents<span class=\"tocSkip\"></span></h1>\n",
    "<div class=\"toc\"><ul class=\"toc-item\"></ul></div>"
   ]
  },
  {
   "cell_type": "code",
   "execution_count": 2,
   "metadata": {},
   "outputs": [],
   "source": [
    "import pandas as pd\n",
    "import sys\n",
    "import time\n",
    "sys.path.append(\"..\")\n",
    "\n",
    "from utils import my_print"
   ]
  },
  {
   "cell_type": "code",
   "execution_count": 83,
   "metadata": {},
   "outputs": [
    {
     "name": "stdout",
     "output_type": "stream",
     "text": [
      "Iteration 0: Start time epoch (s): 1607636588.623392\n",
      "Iteration 0: Time taken reading data (s): 178\n"
     ]
    },
    {
     "name": "stderr",
     "output_type": "stream",
     "text": [
      "/home/bruno/.local/lib/python3.6/site-packages/ipykernel_launcher.py:42: SettingWithCopyWarning: \n",
      "A value is trying to be set on a copy of a slice from a DataFrame.\n",
      "Try using .loc[row_indexer,col_indexer] = value instead\n",
      "\n",
      "See the caveats in the documentation: https://pandas.pydata.org/pandas-docs/stable/user_guide/indexing.html#returning-a-view-versus-a-copy\n"
     ]
    },
    {
     "name": "stdout",
     "output_type": "stream",
     "text": [
      "Iteration 0: Time taken processing data (s): 11\n",
      "Iteration 0: Time taken saving data (s): 0\n",
      "Iteration 0: Total time (s): 190\n",
      "\n",
      "\n",
      "\n"
     ]
    }
   ],
   "source": [
    "N_REPS = 1\n",
    "DATA_DIR = \"../data/\"\n",
    "FILE_NAME = \"complaint_census_join.csv\"\n",
    "OUTPUT_NAME = \"complaint_census_join_by_zip_day_pandas_version.out\"\n",
    "TESTING = False\n",
    "\n",
    "if TESTING:\n",
    "    FILE_NAME = \"complaint_census_join_sample.csv\"\n",
    "\n",
    "base_cols = ['zcta', 'date', 'type', 'descriptor', 'geoID']\n",
    "num_cols = ['median_earning', 'full_time_median_earning', \n",
    "          'full_time_mean_earning']\n",
    "header = base_cols + num_cols\n",
    "\n",
    "all_times = []\n",
    "for i in range(N_REPS):\n",
    "    start_time = time.time()\n",
    "    past_time = my_print(iteration=i, text=\"Start time epoch\", \n",
    "                         past_time=start_time, use_duration=False)\n",
    "    # read data\n",
    "    df = pd.read_csv(\n",
    "        DATA_DIR+FILE_NAME, low_memory=False, names=header,\n",
    "        dtype={\"descriptor\": str}\n",
    "    )\n",
    "    # This is faster than reading it as a date\n",
    "    df[\"date\"] = pd.to_datetime(df[\"date\"], format=\"%m/%d/%Y %H:%M:%S %p\")\n",
    "    past_time = my_print(iteration=i, text=\"Time taken reading data\", past_time=past_time)\n",
    "    \n",
    "    # filter time\n",
    "    final_df = df.query(\"\"\"\n",
    "        (date >= '03/01/2019' and date < '11/01/2019') \\\n",
    "        or \\\n",
    "        (date >= '03/01/2020' and date < '11/01/2020') \\\n",
    "                        \n",
    "    \"\"\")\n",
    "    # we have too little data for the filter to return anything \n",
    "    if TESTING:\n",
    "        final_df = df\n",
    "\n",
    "    # add binary noise column\n",
    "    bin_noise = final_df[\"descriptor\"].str.contains(\"noise\", case=False)\n",
    "    final_df[\"binary_noise\"] = bin_noise.fillna(False).astype(int)\n",
    "\n",
    "    grouper = final_df.groupby([\"zcta\", pd.Grouper(freq=\"1D\", key=\"date\")], sort=True)\n",
    "    # replace the original final_df\n",
    "    final_df = grouper.first()[[\n",
    "        \"geoID\", \"median_earning\", \"full_time_median_earning\",\n",
    "        \"full_time_mean_earning\", \n",
    "    ]]\n",
    "    final_df[\"num_complaints\"]  = grouper.size()  \n",
    "    final_df[\"num_noise_complaints\"] = grouper[\"binary_noise\"].sum()\n",
    "    past_time = my_print(iteration=i, text=\"Time taken processing data\", past_time=past_time)\n",
    "    \n",
    "    # write \n",
    "    final_df.to_csv(DATA_DIR+OUTPUT_NAME)\n",
    "    past_time = my_print(iteration=i, text=\"Time taken saving data\", past_time=past_time)\n",
    "    \n",
    "    past_time = my_print(iteration=i, text=\"Total time\", past_time=start_time)\n",
    "    all_times.append(int(past_time-start_time))\n",
    "    print(\"\\n\\n\")"
   ]
  },
  {
   "cell_type": "code",
   "execution_count": 85,
   "metadata": {},
   "outputs": [
    {
     "data": {
      "text/plain": [
       "0.9368421052631579"
      ]
     },
     "execution_count": 85,
     "metadata": {},
     "output_type": "execute_result"
    }
   ],
   "source": [
    "178/190"
   ]
  },
  {
   "cell_type": "code",
   "execution_count": 86,
   "metadata": {},
   "outputs": [
    {
     "data": {
      "text/plain": [
       "258"
      ]
     },
     "execution_count": 86,
     "metadata": {},
     "output_type": "execute_result"
    }
   ],
   "source": [
    "4*60 + 18"
   ]
  },
  {
   "cell_type": "code",
   "execution_count": 87,
   "metadata": {},
   "outputs": [
    {
     "data": {
      "text/plain": [
       "373"
      ]
     },
     "execution_count": 87,
     "metadata": {},
     "output_type": "execute_result"
    }
   ],
   "source": [
    "6*60 + 13"
   ]
  },
  {
   "cell_type": "code",
   "execution_count": null,
   "metadata": {},
   "outputs": [],
   "source": [
    "import pyspark\n",
    "sc = pyspark.SparkContext(appName=\"some_app\")\n",
    "sc.uiWebUrl"
   ]
  }
 ],
 "metadata": {
  "kernelspec": {
   "display_name": "Python 3",
   "language": "python",
   "name": "python3"
  },
  "language_info": {
   "codemirror_mode": {
    "name": "ipython",
    "version": 3
   },
   "file_extension": ".py",
   "mimetype": "text/x-python",
   "name": "python",
   "nbconvert_exporter": "python",
   "pygments_lexer": "ipython3",
   "version": "3.6.9"
  },
  "toc": {
   "base_numbering": 1,
   "nav_menu": {},
   "number_sections": false,
   "sideBar": true,
   "skip_h1_title": false,
   "title_cell": "Table of Contents",
   "title_sidebar": "Contents",
   "toc_cell": true,
   "toc_position": {},
   "toc_section_display": true,
   "toc_window_display": false
  }
 },
 "nbformat": 4,
 "nbformat_minor": 2
}
