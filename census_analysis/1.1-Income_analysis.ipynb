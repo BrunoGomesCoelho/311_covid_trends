{
 "cells": [
  {
   "cell_type": "markdown",
   "metadata": {},
   "source": [
    "#  Information\n",
    "\n",
    "Table Description: \"EARNINGS IN THE PAST 12 MONTHS (IN 2018 INFLATION-ADJUSTED DOLLARS)\" - American Community Service (ACS), TableID S2001.\n",
    "\n",
    "Download from [data.census.org](https://data.census.gov/cedsci/table?q=ACSST5Y2018.S2001&g=0100000US.860000_1600000US3651000&y=2018&tid=ACSST5Y2018.S2001&moe=false&hidePreview=true).\n",
    "\n",
    "We use the 5 year estimates since the 1 year estimates do not have enough granularity for geo analysis (no zip code). Notice that that even though it consider the past 5 years to make the estimate, the estimate is still of the **earning in the past 12 months**.\n",
    "\n",
    "We use the data from 2018 instead of 2019 since 2019 does not have a 5 year estimates so again no zip codes.\n",
    "\n",
    "See also [When to Use 1-year, 3-year, or 5-year Estimates](https://www.census.gov/programs-surveys/acs/guidance/estimates.html) for more information about the data acquisition methodology.\n",
    "\n",
    "Notice that we select all zip codes and filter the NY ones since we can't manually select them in the tool (selecting new york state will select that as a row and not filter the results). \n",
    "Notice also that the last row in the link is just \"New York City\" as a aggregate so that we can check if our zip code selection seems correct.\n",
    "\n"
   ]
  },
  {
   "cell_type": "code",
   "execution_count": 204,
   "metadata": {},
   "outputs": [
    {
     "name": "stdout",
     "output_type": "stream",
     "text": [
      "The autoreload extension is already loaded. To reload it, use:\n",
      "  %reload_ext autoreload\n"
     ]
    }
   ],
   "source": [
    "import pandas as pd\n",
    "import numpy as np\n",
    "pd.set_option('display.max_columns', 50)\n",
    "\n",
    "import matplotlib.pyplot as plt\n",
    "%matplotlib inline\n",
    "plt.rcParams['figure.figsize'] = (10.0, 8.0) # set default size of plots\n",
    "import seaborn as sns\n",
    "sns.set()\n",
    "%load_ext autoreload\n",
    "%autoreload 2"
   ]
  },
  {
   "cell_type": "code",
   "execution_count": 84,
   "metadata": {},
   "outputs": [],
   "source": [
    "DATA_DIR  = \"../data/\"\n",
    "#FILE_NAME = \"ACSST5Y2018.S2001_data_with_overlays_2020-11-20T230734.csv\"\n",
    "FILE_NAME = \"ACSST5Y2018.S2001_data_with_overlays_2020-11-20T230734.csv\"\n",
    "FILE_METADATA = FILE_NAME.replace(\"data_with_overlays\", \"metadata\")"
   ]
  },
  {
   "cell_type": "code",
   "execution_count": 108,
   "metadata": {},
   "outputs": [],
   "source": [
    "# Uncomment this line to check out the main data columns in the file:\n",
    "#!cat $DATA_DIR$FILE_METADATA | grep -E -i -v \"male|margin\" "
   ]
  },
  {
   "cell_type": "code",
   "execution_count": 106,
   "metadata": {},
   "outputs": [],
   "source": [
    "rename = {\n",
    "    \"GEO_ID\": \"geo\",\n",
    "    \"NAME\": \"zcta\",\n",
    "    # \"S2001_C01_002E\",\"Estimate!!Total!!\n",
    "    # Population 16 years and over with earnings!!Median earnings (dollars)\"\n",
    "    \"S2001_C01_002E\": \"median_earning\",\n",
    "    \"S2001_C01_013E\": \"full_time_median\",\n",
    "    \"S2001_C01_014E\": \"full_time_mean\",\n",
    "}"
   ]
  },
  {
   "cell_type": "code",
   "execution_count": 152,
   "metadata": {},
   "outputs": [
    {
     "data": {
      "text/html": [
       "<div>\n",
       "<style scoped>\n",
       "    .dataframe tbody tr th:only-of-type {\n",
       "        vertical-align: middle;\n",
       "    }\n",
       "\n",
       "    .dataframe tbody tr th {\n",
       "        vertical-align: top;\n",
       "    }\n",
       "\n",
       "    .dataframe thead th {\n",
       "        text-align: right;\n",
       "    }\n",
       "</style>\n",
       "<table border=\"1\" class=\"dataframe\">\n",
       "  <thead>\n",
       "    <tr style=\"text-align: right;\">\n",
       "      <th></th>\n",
       "      <th>geo</th>\n",
       "      <th>zcta</th>\n",
       "      <th>median_earning</th>\n",
       "      <th>full_time_median</th>\n",
       "      <th>full_time_mean</th>\n",
       "    </tr>\n",
       "  </thead>\n",
       "  <tbody>\n",
       "    <tr>\n",
       "      <th>0</th>\n",
       "      <td>8600000US00601</td>\n",
       "      <td>ZCTA5 00601</td>\n",
       "      <td>14448</td>\n",
       "      <td>19224</td>\n",
       "      <td>24059</td>\n",
       "    </tr>\n",
       "    <tr>\n",
       "      <th>1</th>\n",
       "      <td>8600000US00602</td>\n",
       "      <td>ZCTA5 00602</td>\n",
       "      <td>13322</td>\n",
       "      <td>19424</td>\n",
       "      <td>26194</td>\n",
       "    </tr>\n",
       "    <tr>\n",
       "      <th>2</th>\n",
       "      <td>8600000US00603</td>\n",
       "      <td>ZCTA5 00603</td>\n",
       "      <td>15980</td>\n",
       "      <td>24351</td>\n",
       "      <td>36881</td>\n",
       "    </tr>\n",
       "    <tr>\n",
       "      <th>3</th>\n",
       "      <td>8600000US00606</td>\n",
       "      <td>ZCTA5 00606</td>\n",
       "      <td>10554</td>\n",
       "      <td>17352</td>\n",
       "      <td>19420</td>\n",
       "    </tr>\n",
       "    <tr>\n",
       "      <th>4</th>\n",
       "      <td>8600000US00610</td>\n",
       "      <td>ZCTA5 00610</td>\n",
       "      <td>15298</td>\n",
       "      <td>20174</td>\n",
       "      <td>25518</td>\n",
       "    </tr>\n",
       "  </tbody>\n",
       "</table>\n",
       "</div>"
      ],
      "text/plain": [
       "              geo         zcta median_earning full_time_median full_time_mean\n",
       "0  8600000US00601  ZCTA5 00601          14448            19224          24059\n",
       "1  8600000US00602  ZCTA5 00602          13322            19424          26194\n",
       "2  8600000US00603  ZCTA5 00603          15980            24351          36881\n",
       "3  8600000US00606  ZCTA5 00606          10554            17352          19420\n",
       "4  8600000US00610  ZCTA5 00610          15298            20174          25518"
      ]
     },
     "execution_count": 152,
     "metadata": {},
     "output_type": "execute_result"
    }
   ],
   "source": [
    "interest_cols = list(rename.values())\n",
    "# The second row is just the metadata info as string, so we can skip\n",
    "income = pd.read_csv(DATA_DIR + FILE_NAME, skiprows=[1])  \n",
    "income.rename(columns=rename, inplace=True)\n",
    "income = income.loc[:, interest_cols]\n",
    "\n",
    "# remove last row and save as NY city\n",
    "new_york_city_total = income.iloc[-1]\n",
    "income.drop(index=[len(income)-1], inplace=True)\n",
    "income.head(5)"
   ]
  },
  {
   "cell_type": "code",
   "execution_count": 153,
   "metadata": {},
   "outputs": [],
   "source": [
    "# Make sure all ZCTA fields start the same and remove prefic\n",
    "(income[\"zcta\"].str.slice(0, 6) != \"ZCTA5 \").sum()\n",
    "income[\"zcta\"] = income[\"zcta\"].str.slice(6) # use 6 bcs of extra space\n",
    "income[\"zcta\"] = pd.to_numeric(income[\"zcta\"], errors=\"coerce\")\n",
    "assert income[\"zcta\"].isna().sum() == 0"
   ]
  },
  {
   "cell_type": "markdown",
   "metadata": {},
   "source": [
    "Let's work with just NYC data;\n",
    "\n",
    "Analyzing the ZCTA to ZIP using [NYC ZIP Code to ZCTA Crosswalk](http://faculty.baruch.cuny.edu/geoportal/resources/nyc_geog/zip_to_zcta10_nyc_revised.xls)\n",
    "from [Baruch College](https://www.baruch.cuny.edu/confluence/display/geoportal/NYC+Geographies)\n",
    ", we see that various zips map to the sama zcta, so we can't convert ZCTA -> ZIP (only the other way);\n",
    "Therefore, we will assume our ZIP is just the ZCTA in all cases."
   ]
  },
  {
   "cell_type": "code",
   "execution_count": 154,
   "metadata": {},
   "outputs": [
    {
     "data": {
      "text/html": [
       "<div>\n",
       "<style scoped>\n",
       "    .dataframe tbody tr th:only-of-type {\n",
       "        vertical-align: middle;\n",
       "    }\n",
       "\n",
       "    .dataframe tbody tr th {\n",
       "        vertical-align: top;\n",
       "    }\n",
       "\n",
       "    .dataframe thead th {\n",
       "        text-align: right;\n",
       "    }\n",
       "</style>\n",
       "<table border=\"1\" class=\"dataframe\">\n",
       "  <thead>\n",
       "    <tr style=\"text-align: right;\">\n",
       "      <th></th>\n",
       "      <th>zipcode</th>\n",
       "      <th>ziptype</th>\n",
       "      <th>postalcity</th>\n",
       "      <th>zcta5</th>\n",
       "      <th>bcode</th>\n",
       "      <th>note</th>\n",
       "    </tr>\n",
       "  </thead>\n",
       "  <tbody>\n",
       "    <tr>\n",
       "      <th>0</th>\n",
       "      <td>10001</td>\n",
       "      <td>ZIP Code area</td>\n",
       "      <td>New York</td>\n",
       "      <td>10001</td>\n",
       "      <td>36061</td>\n",
       "      <td>NaN</td>\n",
       "    </tr>\n",
       "    <tr>\n",
       "      <th>1</th>\n",
       "      <td>10118</td>\n",
       "      <td>Post Office or large volume customer</td>\n",
       "      <td>New York</td>\n",
       "      <td>10001</td>\n",
       "      <td>36061</td>\n",
       "      <td>NaN</td>\n",
       "    </tr>\n",
       "  </tbody>\n",
       "</table>\n",
       "</div>"
      ],
      "text/plain": [
       "   zipcode                               ziptype postalcity  zcta5  bcode note\n",
       "0    10001                         ZIP Code area   New York  10001  36061  NaN\n",
       "1    10118  Post Office or large volume customer   New York  10001  36061  NaN"
      ]
     },
     "execution_count": 154,
     "metadata": {},
     "output_type": "execute_result"
    }
   ],
   "source": [
    "ZIP_FILE = \"zip_to_zcta10_nyc_revised.csv\"\n",
    "zip_to_zcta = pd.read_csv(DATA_DIR + ZIP_FILE)\n",
    "# Different zip, same zcta5\n",
    "zip_to_zcta.head(2)"
   ]
  },
  {
   "cell_type": "code",
   "execution_count": 190,
   "metadata": {},
   "outputs": [
    {
     "name": "stdout",
     "output_type": "stream",
     "text": [
      "Amount of zip codes we lose in the covnersion 103 = 32.49%\n"
     ]
    }
   ],
   "source": [
    "zip_lost = zip_to_zcta[\"zipcode\"].nunique() - zip_to_zcta[\"zcta5\"].nunique()\n",
    "print(\"Amount of zip codes we lose in the covnersion\",\n",
    "      f\"{zip_lost} = {100*zip_lost/zip_to_zcta['zipcode'].nunique():.2f}%\")"
   ]
  },
  {
   "cell_type": "code",
   "execution_count": 219,
   "metadata": {},
   "outputs": [],
   "source": [
    "all_ny_zcta = zip_to_zcta[\"zcta5\"].unique()\n",
    "ny_city_income = income.query(\"zcta in @all_ny_zcta\").copy(deep=True)"
   ]
  },
  {
   "cell_type": "code",
   "execution_count": 221,
   "metadata": {},
   "outputs": [
    {
     "name": "stdout",
     "output_type": "stream",
     "text": [
      "median_earning % of invalid earning: 0.00%\n",
      "Invalid option: []\n",
      "full_time_median % of invalid earning: 0.00%\n",
      "Invalid option: []\n",
      "full_time_mean % of invalid earning: 0.55%\n",
      "Invalid option: ['N']\n"
     ]
    }
   ],
   "source": [
    "for focus_col in [\"median_earning\", \"full_time_median\", \"full_time_mean\"]:\n",
    "    invalid_earnings = pd.to_numeric(ny_city_income[focus_col], errors=\"coerce\").isna()\n",
    "    print(focus_col, f\"% of invalid earning: {100*invalid_earnings.mean():.2f}%\")\n",
    "    print(\"Invalid option:\", ny_city_income.loc[invalid_earnings, focus_col].unique())\n",
    "# Since all columns have the same amount of missing values, let's go with median\n",
    "focus_col = \"median_earning\""
   ]
  },
  {
   "cell_type": "code",
   "execution_count": 224,
   "metadata": {},
   "outputs": [
    {
     "data": {
      "text/html": [
       "<div>\n",
       "<style scoped>\n",
       "    .dataframe tbody tr th:only-of-type {\n",
       "        vertical-align: middle;\n",
       "    }\n",
       "\n",
       "    .dataframe tbody tr th {\n",
       "        vertical-align: top;\n",
       "    }\n",
       "\n",
       "    .dataframe thead th {\n",
       "        text-align: right;\n",
       "    }\n",
       "</style>\n",
       "<table border=\"1\" class=\"dataframe\">\n",
       "  <thead>\n",
       "    <tr style=\"text-align: right;\">\n",
       "      <th></th>\n",
       "      <th>geo</th>\n",
       "      <th>zcta</th>\n",
       "      <th>median_earning</th>\n",
       "      <th>full_time_median</th>\n",
       "      <th>full_time_mean</th>\n",
       "    </tr>\n",
       "  </thead>\n",
       "  <tbody>\n",
       "    <tr>\n",
       "      <th>2558</th>\n",
       "      <td>8600000US10001</td>\n",
       "      <td>10001</td>\n",
       "      <td>74878.0</td>\n",
       "      <td>93452</td>\n",
       "      <td>136402</td>\n",
       "    </tr>\n",
       "    <tr>\n",
       "      <th>2559</th>\n",
       "      <td>8600000US10002</td>\n",
       "      <td>10002</td>\n",
       "      <td>37348.0</td>\n",
       "      <td>55285</td>\n",
       "      <td>75269</td>\n",
       "    </tr>\n",
       "  </tbody>\n",
       "</table>\n",
       "</div>"
      ],
      "text/plain": [
       "                 geo   zcta  median_earning full_time_median full_time_mean\n",
       "2558  8600000US10001  10001         74878.0            93452         136402\n",
       "2559  8600000US10002  10002         37348.0            55285          75269"
      ]
     },
     "execution_count": 224,
     "metadata": {},
     "output_type": "execute_result"
    }
   ],
   "source": [
    "ny_city_income[focus_col] = pd.to_numeric(ny_city_income[focus_col],\n",
    "                                          errors=\"coerce\")\n",
    "ny_city_income.dropna(subset=[focus_col], inplace=True)\n",
    "ny_city_income.head(2)"
   ]
  },
  {
   "cell_type": "code",
   "execution_count": 229,
   "metadata": {},
   "outputs": [
    {
     "data": {
      "text/plain": [
       "(39479.0, '38845')"
      ]
     },
     "execution_count": 229,
     "metadata": {},
     "output_type": "execute_result"
    }
   ],
   "source": [
    "\"\"\"As a ballpark estimate, the median of the median should be aprox the global \n",
    "median we orginally had from the data. We don't expect it to match up exactly \n",
    "since we aren't considering the different pop sizes for each zip code.\n",
    "\"\"\"\n",
    "ny_city_income[focus_col].median(), new_york_city_total[focus_col]"
   ]
  },
  {
   "cell_type": "code",
   "execution_count": null,
   "metadata": {},
   "outputs": [],
   "source": []
  },
  {
   "cell_type": "code",
   "execution_count": null,
   "metadata": {},
   "outputs": [],
   "source": []
  },
  {
   "cell_type": "code",
   "execution_count": null,
   "metadata": {},
   "outputs": [],
   "source": []
  },
  {
   "cell_type": "code",
   "execution_count": null,
   "metadata": {},
   "outputs": [],
   "source": []
  },
  {
   "cell_type": "markdown",
   "metadata": {},
   "source": [
    "# Merging with complaints"
   ]
  },
  {
   "cell_type": "code",
   "execution_count": 249,
   "metadata": {},
   "outputs": [
    {
     "data": {
      "text/html": [
       "<div>\n",
       "<style scoped>\n",
       "    .dataframe tbody tr th:only-of-type {\n",
       "        vertical-align: middle;\n",
       "    }\n",
       "\n",
       "    .dataframe tbody tr th {\n",
       "        vertical-align: top;\n",
       "    }\n",
       "\n",
       "    .dataframe thead th {\n",
       "        text-align: right;\n",
       "    }\n",
       "</style>\n",
       "<table border=\"1\" class=\"dataframe\">\n",
       "  <thead>\n",
       "    <tr style=\"text-align: right;\">\n",
       "      <th></th>\n",
       "      <th>Unique Key</th>\n",
       "      <th>Created Date</th>\n",
       "      <th>Closed Date</th>\n",
       "      <th>Agency</th>\n",
       "      <th>Agency Name</th>\n",
       "      <th>Complaint Type</th>\n",
       "      <th>Descriptor</th>\n",
       "      <th>Location Type</th>\n",
       "      <th>Incident Zip</th>\n",
       "      <th>Incident Address</th>\n",
       "      <th>Street Name</th>\n",
       "      <th>Cross Street 1</th>\n",
       "      <th>Cross Street 2</th>\n",
       "      <th>Intersection Street 1</th>\n",
       "      <th>Intersection Street 2</th>\n",
       "      <th>Address Type</th>\n",
       "      <th>City</th>\n",
       "      <th>Landmark</th>\n",
       "      <th>Facility Type</th>\n",
       "      <th>Status</th>\n",
       "      <th>Due Date</th>\n",
       "      <th>Resolution Description</th>\n",
       "      <th>Resolution Action Updated Date</th>\n",
       "      <th>Community Board</th>\n",
       "      <th>BBL</th>\n",
       "      <th>Borough</th>\n",
       "      <th>X Coordinate (State Plane)</th>\n",
       "      <th>Y Coordinate (State Plane)</th>\n",
       "      <th>Open Data Channel Type</th>\n",
       "      <th>Park Facility Name</th>\n",
       "      <th>Park Borough</th>\n",
       "      <th>Vehicle Type</th>\n",
       "      <th>Taxi Company Borough</th>\n",
       "      <th>Taxi Pick Up Location</th>\n",
       "      <th>Bridge Highway Name</th>\n",
       "      <th>Bridge Highway Direction</th>\n",
       "      <th>Road Ramp</th>\n",
       "      <th>Bridge Highway Segment</th>\n",
       "      <th>Latitude</th>\n",
       "      <th>Longitude</th>\n",
       "      <th>Location</th>\n",
       "    </tr>\n",
       "  </thead>\n",
       "  <tbody>\n",
       "    <tr>\n",
       "      <th>0</th>\n",
       "      <td>25356119</td>\n",
       "      <td>04/13/2013 03:55:00 PM</td>\n",
       "      <td>04/13/2013 03:55:00 PM</td>\n",
       "      <td>DEP</td>\n",
       "      <td>Department of Environmental Protection</td>\n",
       "      <td>Sewer</td>\n",
       "      <td>Sewer Backup (Use Comments) (SA)</td>\n",
       "      <td>NaN</td>\n",
       "      <td>11429.0</td>\n",
       "      <td>215-27 HOLLIS AVENUE</td>\n",
       "      <td>HOLLIS AVENUE</td>\n",
       "      <td>215 ST</td>\n",
       "      <td>216 ST</td>\n",
       "      <td>NaN</td>\n",
       "      <td>NaN</td>\n",
       "      <td>ADDRESS</td>\n",
       "      <td>Queens Village</td>\n",
       "      <td>NaN</td>\n",
       "      <td>NaN</td>\n",
       "      <td>Closed</td>\n",
       "      <td>NaN</td>\n",
       "      <td>The Department of Environmental Protection has...</td>\n",
       "      <td>04/13/2013 03:55:00 PM</td>\n",
       "      <td>13 QUEENS</td>\n",
       "      <td>4.111010e+09</td>\n",
       "      <td>QUEENS</td>\n",
       "      <td>1055561.0</td>\n",
       "      <td>198095.0</td>\n",
       "      <td>PHONE</td>\n",
       "      <td>Unspecified</td>\n",
       "      <td>QUEENS</td>\n",
       "      <td>NaN</td>\n",
       "      <td>NaN</td>\n",
       "      <td>NaN</td>\n",
       "      <td>NaN</td>\n",
       "      <td>NaN</td>\n",
       "      <td>NaN</td>\n",
       "      <td>NaN</td>\n",
       "      <td>40.710114</td>\n",
       "      <td>-73.742781</td>\n",
       "      <td>(40.7101144, -73.7427809)</td>\n",
       "    </tr>\n",
       "    <tr>\n",
       "      <th>1</th>\n",
       "      <td>25356123</td>\n",
       "      <td>04/13/2013 03:36:00 PM</td>\n",
       "      <td>04/13/2013 04:00:00 PM</td>\n",
       "      <td>DEP</td>\n",
       "      <td>Department of Environmental Protection</td>\n",
       "      <td>Water System</td>\n",
       "      <td>Hydrant Leaking (WC1)</td>\n",
       "      <td>NaN</td>\n",
       "      <td>10460.0</td>\n",
       "      <td>EAST TREMONT AVENUE</td>\n",
       "      <td>EAST TREMONT AVENUE</td>\n",
       "      <td>PROSPECT AVENUE</td>\n",
       "      <td>MAPES AVENUE</td>\n",
       "      <td>NaN</td>\n",
       "      <td>NaN</td>\n",
       "      <td>BLOCKFACE</td>\n",
       "      <td>BRONX</td>\n",
       "      <td>NaN</td>\n",
       "      <td>NaN</td>\n",
       "      <td>Closed</td>\n",
       "      <td>NaN</td>\n",
       "      <td>The Department of Environmental Protection det...</td>\n",
       "      <td>04/13/2013 04:00:00 PM</td>\n",
       "      <td>06 BRONX</td>\n",
       "      <td>NaN</td>\n",
       "      <td>BRONX</td>\n",
       "      <td>1015108.0</td>\n",
       "      <td>246825.0</td>\n",
       "      <td>PHONE</td>\n",
       "      <td>Unspecified</td>\n",
       "      <td>BRONX</td>\n",
       "      <td>NaN</td>\n",
       "      <td>NaN</td>\n",
       "      <td>NaN</td>\n",
       "      <td>NaN</td>\n",
       "      <td>NaN</td>\n",
       "      <td>NaN</td>\n",
       "      <td>NaN</td>\n",
       "      <td>40.844100</td>\n",
       "      <td>-73.888469</td>\n",
       "      <td>(40.8440997, -73.8884686)</td>\n",
       "    </tr>\n",
       "  </tbody>\n",
       "</table>\n",
       "</div>"
      ],
      "text/plain": [
       "   Unique Key            Created Date             Closed Date Agency  \\\n",
       "0    25356119  04/13/2013 03:55:00 PM  04/13/2013 03:55:00 PM    DEP   \n",
       "1    25356123  04/13/2013 03:36:00 PM  04/13/2013 04:00:00 PM    DEP   \n",
       "\n",
       "                              Agency Name Complaint Type  \\\n",
       "0  Department of Environmental Protection          Sewer   \n",
       "1  Department of Environmental Protection   Water System   \n",
       "\n",
       "                         Descriptor Location Type  Incident Zip  \\\n",
       "0  Sewer Backup (Use Comments) (SA)           NaN       11429.0   \n",
       "1             Hydrant Leaking (WC1)           NaN       10460.0   \n",
       "\n",
       "       Incident Address          Street Name   Cross Street 1 Cross Street 2  \\\n",
       "0  215-27 HOLLIS AVENUE        HOLLIS AVENUE           215 ST         216 ST   \n",
       "1   EAST TREMONT AVENUE  EAST TREMONT AVENUE  PROSPECT AVENUE   MAPES AVENUE   \n",
       "\n",
       "  Intersection Street 1 Intersection Street 2 Address Type            City  \\\n",
       "0                   NaN                   NaN      ADDRESS  Queens Village   \n",
       "1                   NaN                   NaN    BLOCKFACE           BRONX   \n",
       "\n",
       "  Landmark Facility Type  Status Due Date  \\\n",
       "0      NaN           NaN  Closed      NaN   \n",
       "1      NaN           NaN  Closed      NaN   \n",
       "\n",
       "                              Resolution Description  \\\n",
       "0  The Department of Environmental Protection has...   \n",
       "1  The Department of Environmental Protection det...   \n",
       "\n",
       "  Resolution Action Updated Date Community Board           BBL Borough  \\\n",
       "0         04/13/2013 03:55:00 PM       13 QUEENS  4.111010e+09  QUEENS   \n",
       "1         04/13/2013 04:00:00 PM        06 BRONX           NaN   BRONX   \n",
       "\n",
       "   X Coordinate (State Plane)  Y Coordinate (State Plane)  \\\n",
       "0                   1055561.0                    198095.0   \n",
       "1                   1015108.0                    246825.0   \n",
       "\n",
       "  Open Data Channel Type Park Facility Name Park Borough  Vehicle Type  \\\n",
       "0                  PHONE        Unspecified       QUEENS           NaN   \n",
       "1                  PHONE        Unspecified        BRONX           NaN   \n",
       "\n",
       "   Taxi Company Borough Taxi Pick Up Location Bridge Highway Name  \\\n",
       "0                   NaN                   NaN                 NaN   \n",
       "1                   NaN                   NaN                 NaN   \n",
       "\n",
       "  Bridge Highway Direction Road Ramp Bridge Highway Segment   Latitude  \\\n",
       "0                      NaN       NaN                    NaN  40.710114   \n",
       "1                      NaN       NaN                    NaN  40.844100   \n",
       "\n",
       "   Longitude                   Location  \n",
       "0 -73.742781  (40.7101144, -73.7427809)  \n",
       "1 -73.888469  (40.8440997, -73.8884686)  "
      ]
     },
     "execution_count": 249,
     "metadata": {},
     "output_type": "execute_result"
    }
   ],
   "source": [
    "FILE_SAMPLE = \"sample_complaints.csv\"\n",
    "# Merge with complaints\n",
    "sample_complaints = pd.read_csv(DATA_DIR + FILE_SAMPLE)\n",
    "sample_complaints.head(2)"
   ]
  },
  {
   "cell_type": "code",
   "execution_count": 250,
   "metadata": {},
   "outputs": [
    {
     "name": "stdout",
     "output_type": "stream",
     "text": [
      "% ofinvalid zips 0.40040040040040037\n"
     ]
    }
   ],
   "source": [
    "print(\"% ofinvalid zips\", 100*sample_complaints[\"Incident Zip\"].isna().mean())\n",
    "sample_complaints.dropna(subset=[\"Incident Zip\"], inplace=True)\n",
    "sample_complaints[\"processed_zip\"] = sample_complaints[\"Incident Zip\"].astype(int)"
   ]
  },
  {
   "cell_type": "code",
   "execution_count": 260,
   "metadata": {},
   "outputs": [
    {
     "data": {
      "text/html": [
       "<div>\n",
       "<style scoped>\n",
       "    .dataframe tbody tr th:only-of-type {\n",
       "        vertical-align: middle;\n",
       "    }\n",
       "\n",
       "    .dataframe tbody tr th {\n",
       "        vertical-align: top;\n",
       "    }\n",
       "\n",
       "    .dataframe thead th {\n",
       "        text-align: right;\n",
       "    }\n",
       "</style>\n",
       "<table border=\"1\" class=\"dataframe\">\n",
       "  <thead>\n",
       "    <tr style=\"text-align: right;\">\n",
       "      <th></th>\n",
       "      <th>zcta</th>\n",
       "      <th>median_earning</th>\n",
       "    </tr>\n",
       "  </thead>\n",
       "  <tbody>\n",
       "    <tr>\n",
       "      <th>0</th>\n",
       "      <td>11429</td>\n",
       "      <td>35145.0</td>\n",
       "    </tr>\n",
       "    <tr>\n",
       "      <th>1</th>\n",
       "      <td>11429</td>\n",
       "      <td>35145.0</td>\n",
       "    </tr>\n",
       "  </tbody>\n",
       "</table>\n",
       "</div>"
      ],
      "text/plain": [
       "    zcta  median_earning\n",
       "0  11429         35145.0\n",
       "1  11429         35145.0"
      ]
     },
     "execution_count": 260,
     "metadata": {},
     "output_type": "execute_result"
    }
   ],
   "source": [
    "merged = pd.merge(sample_complaints, ny_city_income, left_on=\"processed_zip\", \n",
    "         right_on=\"zcta\", validate=\"m:1\"\n",
    ")\n",
    "merged[[\"zcta\", focus_col]].head(2)"
   ]
  },
  {
   "cell_type": "code",
   "execution_count": 298,
   "metadata": {},
   "outputs": [],
   "source": [
    "import plotly.express as px\n",
    "# Quick and dirty viz; I should be mapping zip to geoJson, but ok for now;\n",
    "# This ignores 40% of data\n",
    "temp = merged.dropna(subset=[\"Latitude\", \"Longitude\"])  \n",
    "\n",
    "# Requires a mapbox token\n",
    "px.set_mapbox_access_token(open(\".mapbox_token\").read())\n",
    "fig = px.scatter_mapbox(temp, lat=\"Latitude\", lon=\"Longitude\", color=\"median_earning\",\n",
    "                    size_max=15, zoom=9)\n",
    "#fig"
   ]
  },
  {
   "cell_type": "code",
   "execution_count": 287,
   "metadata": {},
   "outputs": [
    {
     "data": {
      "text/plain": [
       "0.6040201005025125"
      ]
     },
     "execution_count": 287,
     "metadata": {},
     "output_type": "execute_result"
    }
   ],
   "source": [
    "len(temp) / len(sample_complaints)"
   ]
  },
  {
   "cell_type": "code",
   "execution_count": 291,
   "metadata": {},
   "outputs": [],
   "source": [
    "fig.write_image(\"1.1-Income_analysis.png\")"
   ]
  },
  {
   "cell_type": "markdown",
   "metadata": {},
   "source": [
    "![](1.1-Income_analysis.png)"
   ]
  },
  {
   "cell_type": "code",
   "execution_count": null,
   "metadata": {},
   "outputs": [],
   "source": []
  },
  {
   "cell_type": "code",
   "execution_count": null,
   "metadata": {},
   "outputs": [],
   "source": []
  },
  {
   "cell_type": "code",
   "execution_count": null,
   "metadata": {},
   "outputs": [],
   "source": []
  },
  {
   "cell_type": "code",
   "execution_count": 295,
   "metadata": {},
   "outputs": [
    {
     "data": {
      "application/javascript": [
       "$('#menubar').toggle();\n"
      ],
      "text/plain": [
       "<IPython.core.display.Javascript object>"
      ]
     },
     "metadata": {},
     "output_type": "display_data"
    }
   ],
   "source": [
    "%%javascript\n",
    "$('#menubar').toggle();"
   ]
  },
  {
   "cell_type": "code",
   "execution_count": null,
   "metadata": {},
   "outputs": [],
   "source": []
  },
  {
   "cell_type": "code",
   "execution_count": null,
   "metadata": {},
   "outputs": [],
   "source": []
  },
  {
   "cell_type": "code",
   "execution_count": null,
   "metadata": {},
   "outputs": [],
   "source": []
  }
 ],
 "metadata": {
  "kernelspec": {
   "display_name": "Python 3",
   "language": "python",
   "name": "python3"
  },
  "language_info": {
   "codemirror_mode": {
    "name": "ipython",
    "version": 3
   },
   "file_extension": ".py",
   "mimetype": "text/x-python",
   "name": "python",
   "nbconvert_exporter": "python",
   "pygments_lexer": "ipython3",
   "version": "3.6.9"
  },
  "toc": {
   "base_numbering": 1,
   "nav_menu": {},
   "number_sections": false,
   "sideBar": true,
   "skip_h1_title": false,
   "title_cell": "Table of Contents",
   "title_sidebar": "Contents",
   "toc_cell": false,
   "toc_position": {},
   "toc_section_display": true,
   "toc_window_display": false
  }
 },
 "nbformat": 4,
 "nbformat_minor": 4
}
