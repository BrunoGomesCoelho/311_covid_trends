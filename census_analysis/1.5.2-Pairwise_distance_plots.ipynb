{
 "cells": [
  {
   "cell_type": "code",
   "execution_count": 7,
   "metadata": {},
   "outputs": [],
   "source": [
    "import pandas as pd\n",
    "import numpy as np\n",
    "pd.set_option('display.max_columns', 50)\n",
    "\n",
    "import matplotlib.pyplot as plt\n",
    "%matplotlib inline\n",
    "plt.rcParams['figure.figsize'] = (10.0, 8.0) # set default size of plots\n",
    "import seaborn as sns\n",
    "sns.set()"
   ]
  },
  {
   "cell_type": "code",
   "execution_count": 8,
   "metadata": {},
   "outputs": [],
   "source": [
    "import plotly.express as px\n",
    "import json\n",
    "from urllib.request import urlopen\n",
    "import matplotlib.image as mpimg\n",
    "\n",
    "TESTING = False\n",
    "DATA_DIR  = \"../data/\"\n",
    "# This is the output file from ../prepare_311_data/prepare_311_data.sh\n",
    "FILE_NAME = \"pairwise_spatial_dtw.json\"\n",
    "with open(DATA_DIR+FILE_NAME) as f:\n",
    "    distances = json.load(f)"
   ]
  },
  {
   "cell_type": "code",
   "execution_count": 8,
   "metadata": {},
   "outputs": [],
   "source": [
    "geojson_link = \"https://data.cityofnewyork.us/api/geospatial/pri4-ifjk?method=export&format=GeoJSON\"\n",
    "\n",
    "import json\n",
    "from urllib.request import urlopen\n",
    "\n",
    "with urlopen(geojson_link) as response:\n",
    "    geojson = json.load(response)"
   ]
  },
  {
   "cell_type": "code",
   "execution_count": 14,
   "metadata": {},
   "outputs": [],
   "source": [
    "from plotly.subplots import make_subplots\n",
    "import plotly.graph_objects as go\n",
    "\n",
    "filenames = [#\"pairwise_spatial_dtw.json\",\n",
    "             #pairwise_spatial_ed.json\",\n",
    "             \"pairwise_spatial_dtw_noise.json\",\n",
    "             \"pairwise_spatial_ed_noise.json\"\n",
    "             ]  # TODO: Other files\n",
    "\n",
    "def create_year_choropleths(fig, filename, row):\n",
    "    with open(DATA_DIR+filename) as f:\n",
    "        distances = json.load(f)\n",
    "        \n",
    "    #fig = make_subplots(1, 4)\n",
    "    for col, (year, year_dist) in enumerate(distances.items(), 1):\n",
    "        year_dist = pd.DataFrame({\"zcta\": year_dist.keys(),\n",
    "                                  \"distance\": year_dist.values()})\n",
    "        plotly_fig = px.choropleth_mapbox(\n",
    "            year_dist, geojson=geojson, locations='zcta', \n",
    "            color=\"distance\",\n",
    "            color_continuous_scale=\"Viridis\", \n",
    "            featureidkey=\"properties.modzcta\", \n",
    "            #labels={\"percent_diff\": \"% difference 2019 to 2020\"},\n",
    "            mapbox_style=\"carto-positron\",\n",
    "            zoom=9, center={\"lat\": 40.7, \"lon\": -74},\n",
    "            opacity=0.7, title=f\"{filename} - {year}\",\n",
    "            hover_name=\"zcta\"\n",
    "        )\n",
    "        plotly_fig.update_layout(margin={\"r\":0,\"t\":30,\"l\":0,\"b\":0})\n",
    "        img_name = f\"1_5_{filename}_{year}.png\"\n",
    "        plotly_fig.write_image(img_name)\n",
    "        continue\n",
    "        # None of the below worked :)\n",
    "        loaded_img = mpimg.imread(img_name)\n",
    "        # We use go.Image because subplots require traces, whereas px functions return a figure\n",
    "        fig.add_trace(go.Image(z=loaded_img), 1, col)\n",
    "\n",
    "        # Create the matplotlib figure\n",
    "        ax = fig.add_subplot(len(filenames), 4, row*4 + col)\n",
    "        ax.imshow(loaded_img)\n",
    "        ax.grid(None)\n",
    "        ax.set_title(year)\n",
    "    #return fig"
   ]
  },
  {
   "cell_type": "code",
   "execution_count": 15,
   "metadata": {},
   "outputs": [
    {
     "data": {
      "text/plain": [
       "<Figure size 7200x14400 with 0 Axes>"
      ]
     },
     "metadata": {},
     "output_type": "display_data"
    }
   ],
   "source": [
    "base_size = 50\n",
    "#fig, ax = subplots(figsize=(len(filename), 4*base_size))\n",
    "fig = plt.figure(figsize=(len(filenames)*base_size, 4*base_size))\n",
    "\n",
    "for row, file_name in enumerate(filenames, 1):\n",
    "    create_year_choropleths(fig, file_name, 0)\n",
    "#fig.update_layout(height=400)\n",
    "#fig.show()"
   ]
  },
  {
   "cell_type": "code",
   "execution_count": null,
   "metadata": {},
   "outputs": [],
   "source": [
    "for col, (year, year_dist) in enumerate(distances.items(), 1):\n",
    "    img_name = f\"1_5_{filename}_{year}.png\"\n",
    "    loaded_img = mpimg.imread(img_name)\n",
    "    fig = px.imshow(loaded_img)#, facet_col=0, binary_string=True,\n",
    "    #             labels={'facet_col':'sigma'})\n",
    "fig.show()"
   ]
  },
  {
   "cell_type": "code",
   "execution_count": null,
   "metadata": {},
   "outputs": [],
   "source": []
  },
  {
   "cell_type": "code",
   "execution_count": null,
   "metadata": {},
   "outputs": [],
   "source": []
  },
  {
   "cell_type": "code",
   "execution_count": null,
   "metadata": {},
   "outputs": [],
   "source": []
  },
  {
   "cell_type": "code",
   "execution_count": 2,
   "metadata": {},
   "outputs": [],
   "source": [
    "\n",
    "CENSUS_NAME = \"census_data.csv\"\n",
    "complaints = pd.read_csv(DATA_DIR+FILE_NAME, \n",
    "                         parse_dates=[\"date\"], \n",
    "                         cache_dates=True,\n",
    "                         infer_datetime_format=True\n",
    ")\n",
    "census = pd.read_csv(\n",
    "    DATA_DIR+CENSUS_NAME, \n",
    "    names=[\"geo\", \"zcta\", \"median_earning\", \"full_time_median\", \"full_time_mean\"],\n",
    "    usecols=[1, 2, 3, 4],\n",
    ")\n",
    "num_cols = \"median_earning\", \"full_time_median\", \"full_time_mean\"\n",
    "for col in num_cols:\n",
    "    census[col] = pd.to_numeric(census[col], errors=\"coerce\")"
   ]
  },
  {
   "cell_type": "code",
   "execution_count": 6,
   "metadata": {},
   "outputs": [],
   "source": [
    "start_month = \"03\"\n",
    "end_month = \"09\"\n",
    "noise_complaints_covid = complaints.query(f\"\"\"\n",
    "    (\"2019-{start_month}-01\" <= date and date <= \"2019-{end_month}-01\") \\\n",
    "    or \\\n",
    "    (\"2020-{start_month}-01\" <= date and date <= \"2020-{end_month}-01\")\n",
    "\"\"\")\n",
    "noise_complaints_covid = noise_complaints_covid.loc[\n",
    "    noise_complaints_covid[\"type\"].str.contains(\"noise\", case=False)\n",
    "]\n",
    "amount_zips = noise_complaints_covid[\"zcta\"].nunique()"
   ]
  },
  {
   "cell_type": "code",
   "execution_count": 9,
   "metadata": {},
   "outputs": [],
   "source": [
    "noise_complaints_covid.to_csv(\"notebook_1.3_noise_complaints_covid.csv\", index=False)"
   ]
  },
  {
   "cell_type": "code",
   "execution_count": 10,
   "metadata": {},
   "outputs": [],
   "source": [
    "if TESTING:\n",
    "    noise_complaints_covid.loc[len(noise_complaints_covid)] = \\\n",
    "        [pd.to_datetime(\"2020-02-18\"), \"Noise testing\", \"noise testing\", \"11211\"]"
   ]
  },
  {
   "cell_type": "code",
   "execution_count": 102,
   "metadata": {},
   "outputs": [
    {
     "name": "stdout",
     "output_type": "stream",
     "text": [
      "Year 2019 has 4 zcta's with no complaints\n",
      "Year 2020 has 8 zcta's with no complaints\n"
     ]
    }
   ],
   "source": [
    "grouper = noise_complaints_covid.groupby([\n",
    "    \"zcta\", pd.Grouper(freq='1Y', key=\"date\"),\n",
    "], as_index=False).size()\n",
    "grouper = grouper.pivot(index=\"zcta\", columns=\"date\", values=\"size\")\n",
    "for col in grouper.columns:\n",
    "    print(f\"Year {col.year} has {grouper[col].isna().sum()} zcta's with no complaints\")\n",
    "grouper = grouper.fillna(0)\n",
    "grouper.columns = [\"2019\", \"2020\"]"
   ]
  },
  {
   "cell_type": "code",
   "execution_count": 103,
   "metadata": {},
   "outputs": [],
   "source": [
    "zcta_year_null = grouper.loc[(grouper[\"2019\"] == 0)].index"
   ]
  },
  {
   "cell_type": "code",
   "execution_count": 104,
   "metadata": {},
   "outputs": [
    {
     "data": {
      "text/html": [
       "<div>\n",
       "<style scoped>\n",
       "    .dataframe tbody tr th:only-of-type {\n",
       "        vertical-align: middle;\n",
       "    }\n",
       "\n",
       "    .dataframe tbody tr th {\n",
       "        vertical-align: top;\n",
       "    }\n",
       "\n",
       "    .dataframe thead th {\n",
       "        text-align: right;\n",
       "    }\n",
       "</style>\n",
       "<table border=\"1\" class=\"dataframe\">\n",
       "  <thead>\n",
       "    <tr style=\"text-align: right;\">\n",
       "      <th></th>\n",
       "      <th>zcta</th>\n",
       "      <th>2019</th>\n",
       "      <th>2020</th>\n",
       "      <th>percent_diff</th>\n",
       "      <th>median_earning</th>\n",
       "      <th>full_time_median</th>\n",
       "      <th>full_time_mean</th>\n",
       "    </tr>\n",
       "  </thead>\n",
       "  <tbody>\n",
       "    <tr>\n",
       "      <th>0</th>\n",
       "      <td>10001</td>\n",
       "      <td>1487.0</td>\n",
       "      <td>1498.0</td>\n",
       "      <td>0.007397</td>\n",
       "      <td>74878.0</td>\n",
       "      <td>93452.0</td>\n",
       "      <td>136402.0</td>\n",
       "    </tr>\n",
       "    <tr>\n",
       "      <th>1</th>\n",
       "      <td>10002</td>\n",
       "      <td>3002.0</td>\n",
       "      <td>3901.0</td>\n",
       "      <td>0.299467</td>\n",
       "      <td>37348.0</td>\n",
       "      <td>55285.0</td>\n",
       "      <td>75269.0</td>\n",
       "    </tr>\n",
       "  </tbody>\n",
       "</table>\n",
       "</div>"
      ],
      "text/plain": [
       "    zcta    2019    2020  percent_diff  median_earning  full_time_median  \\\n",
       "0  10001  1487.0  1498.0      0.007397         74878.0           93452.0   \n",
       "1  10002  3002.0  3901.0      0.299467         37348.0           55285.0   \n",
       "\n",
       "   full_time_mean  \n",
       "0        136402.0  \n",
       "1         75269.0  "
      ]
     },
     "execution_count": 104,
     "metadata": {},
     "output_type": "execute_result"
    }
   ],
   "source": [
    "grouper[\"percent_diff\"] = (grouper[\"2020\"] - grouper[\"2019\"])\n",
    "grouper[\"percent_diff\"] /= grouper[\"2019\"]\n",
    "grouper = grouper.merge(census, how=\"inner\", on=\"zcta\")\n",
    "grouper[\"percent_diff\"].replace(np.inf, np.nan, inplace=True)\n",
    "grouper.head(2)"
   ]
  },
  {
   "cell_type": "code",
   "execution_count": 105,
   "metadata": {},
   "outputs": [
    {
     "data": {
      "text/plain": [
       "zcta                 11697.000000\n",
       "2019                  5692.000000\n",
       "2020                 43725.000000\n",
       "percent_diff            24.347826\n",
       "median_earning      162650.000000\n",
       "full_time_median    210853.000000\n",
       "full_time_mean      263867.000000\n",
       "dtype: float64"
      ]
     },
     "execution_count": 105,
     "metadata": {},
     "output_type": "execute_result"
    }
   ],
   "source": [
    "grouper.max()"
   ]
  },
  {
   "cell_type": "code",
   "execution_count": 106,
   "metadata": {},
   "outputs": [],
   "source": [
    "grouper.sort_values(\"median_earning\", ascending=False, inplace=True)\n",
    "grouper.reset_index(inplace=True)"
   ]
  },
  {
   "cell_type": "code",
   "execution_count": 107,
   "metadata": {},
   "outputs": [],
   "source": [
    "grouper_subset = grouper.query(\"\"\"zcta not in @zcta_year_null \\\n",
    "    and median_earning == median_earning\"\"\")"
   ]
  },
  {
   "cell_type": "code",
   "execution_count": 4,
   "metadata": {},
   "outputs": [
    {
     "ename": "NameError",
     "evalue": "name 'hi' is not defined",
     "output_type": "error",
     "traceback": [
      "\u001b[0;31m---------------------------------------------------------------------------\u001b[0m",
      "\u001b[0;31mNameError\u001b[0m                                 Traceback (most recent call last)",
      "\u001b[0;32m<ipython-input-4-f48dc73d3255>\u001b[0m in \u001b[0;36m<module>\u001b[0;34m\u001b[0m\n\u001b[0;32m----> 1\u001b[0;31m \u001b[0mhi\u001b[0m\u001b[0;34m\u001b[0m\u001b[0;34m\u001b[0m\u001b[0m\n\u001b[0m\u001b[1;32m      2\u001b[0m \u001b[0;32mimport\u001b[0m \u001b[0mplotly\u001b[0m\u001b[0;34m.\u001b[0m\u001b[0mexpress\u001b[0m \u001b[0;32mas\u001b[0m \u001b[0mpx\u001b[0m\u001b[0;34m\u001b[0m\u001b[0;34m\u001b[0m\u001b[0m\n\u001b[1;32m      3\u001b[0m \u001b[0mpx\u001b[0m\u001b[0;34m.\u001b[0m\u001b[0mscatter\u001b[0m\u001b[0;34m(\u001b[0m\u001b[0mgrouper_subset\u001b[0m\u001b[0;34m,\u001b[0m \u001b[0mx\u001b[0m\u001b[0;34m=\u001b[0m\u001b[0;34m\"percent_diff\"\u001b[0m\u001b[0;34m,\u001b[0m \u001b[0my\u001b[0m\u001b[0;34m=\u001b[0m\u001b[0;34m\"median_earning\"\u001b[0m\u001b[0;34m,\u001b[0m \u001b[0mhover_name\u001b[0m\u001b[0;34m=\u001b[0m\u001b[0;34m\"zcta\"\u001b[0m\u001b[0;34m)\u001b[0m\u001b[0;34m\u001b[0m\u001b[0;34m\u001b[0m\u001b[0m\n",
      "\u001b[0;31mNameError\u001b[0m: name 'hi' is not defined"
     ]
    }
   ],
   "source": [
    "import plotly.express as px\n",
    "px.scatter(grouper_subset, x=\"percent_diff\", y=\"median_earning\", hover_name=\"zcta\")"
   ]
  },
  {
   "cell_type": "code",
   "execution_count": 5,
   "metadata": {},
   "outputs": [
    {
     "ename": "NameError",
     "evalue": "name 'hi' is not defined",
     "output_type": "error",
     "traceback": [
      "\u001b[0;31m---------------------------------------------------------------------------\u001b[0m",
      "\u001b[0;31mNameError\u001b[0m                                 Traceback (most recent call last)",
      "\u001b[0;32m<ipython-input-5-89b2376c6cd1>\u001b[0m in \u001b[0;36m<module>\u001b[0;34m\u001b[0m\n\u001b[0;32m----> 1\u001b[0;31m \u001b[0mhi\u001b[0m\u001b[0;34m\u001b[0m\u001b[0;34m\u001b[0m\u001b[0m\n\u001b[0m\u001b[1;32m      2\u001b[0m \u001b[0mzcta_remove\u001b[0m \u001b[0;34m=\u001b[0m \u001b[0mlist\u001b[0m\u001b[0;34m(\u001b[0m\u001b[0mzcta_year_null\u001b[0m\u001b[0;34m)\u001b[0m \u001b[0;34m+\u001b[0m \u001b[0;34m[\u001b[0m\u001b[0;36m11109\u001b[0m\u001b[0;34m,\u001b[0m \u001b[0;36m10466\u001b[0m\u001b[0;34m]\u001b[0m\u001b[0;34m\u001b[0m\u001b[0;34m\u001b[0m\u001b[0m\n\u001b[1;32m      3\u001b[0m grouper_subset2 = grouper.query(\"\"\"zcta not in @zcta_remove \\\n\u001b[1;32m      4\u001b[0m     and median_earning == median_earning\"\"\")\n\u001b[1;32m      5\u001b[0m fig = px.bar(grouper_subset2, y=\"median_earning\", color=\"percent_diff\", \n",
      "\u001b[0;31mNameError\u001b[0m: name 'hi' is not defined"
     ]
    }
   ],
   "source": [
    "hi\n",
    "zcta_remove = list(zcta_year_null) + [11109, 10466]\n",
    "grouper_subset2 = grouper.query(\"\"\"zcta not in @zcta_remove \\\n",
    "    and median_earning == median_earning\"\"\")\n",
    "fig = px.bar(grouper_subset2, y=\"median_earning\", color=\"percent_diff\", \n",
    "        color_continuous_scale=px.colors.diverging.RdBu,\n",
    "        color_continuous_midpoint=0, hover_name=\"zcta\"\n",
    ")\n",
    "fig.update_layout(title_text=\"Median earning color coded by 2020% difference from 2019\")"
   ]
  },
  {
   "cell_type": "code",
   "execution_count": 110,
   "metadata": {},
   "outputs": [],
   "source": [
    "fig.write_image(\"1.3-Noise_complaints_time_wealth_bar_plot.png\")"
   ]
  },
  {
   "cell_type": "code",
   "execution_count": 86,
   "metadata": {},
   "outputs": [],
   "source": [
    "geojson_link = \"https://data.cityofnewyork.us/api/geospatial/pri4-ifjk?method=export&format=GeoJSON\"\n",
    "\n",
    "import json\n",
    "from urllib.request import urlopen\n",
    "\n",
    "with urlopen(geojson_link) as response:\n",
    "    geojson = json.load(response)"
   ]
  },
  {
   "cell_type": "code",
   "execution_count": 6,
   "metadata": {},
   "outputs": [
    {
     "ename": "NameError",
     "evalue": "name 'hi' is not defined",
     "output_type": "error",
     "traceback": [
      "\u001b[0;31m---------------------------------------------------------------------------\u001b[0m",
      "\u001b[0;31mNameError\u001b[0m                                 Traceback (most recent call last)",
      "\u001b[0;32m<ipython-input-6-a33d84e83b41>\u001b[0m in \u001b[0;36m<module>\u001b[0;34m\u001b[0m\n\u001b[0;32m----> 1\u001b[0;31m \u001b[0mhi\u001b[0m\u001b[0;34m\u001b[0m\u001b[0;34m\u001b[0m\u001b[0m\n\u001b[0m\u001b[1;32m      2\u001b[0m fig = px.choropleth_mapbox(\n\u001b[1;32m      3\u001b[0m     \u001b[0mgrouper_subset2\u001b[0m\u001b[0;34m,\u001b[0m \u001b[0mgeojson\u001b[0m\u001b[0;34m=\u001b[0m\u001b[0mgeojson\u001b[0m\u001b[0;34m,\u001b[0m \u001b[0mlocations\u001b[0m\u001b[0;34m=\u001b[0m\u001b[0;34m'zcta'\u001b[0m\u001b[0;34m,\u001b[0m\u001b[0;34m\u001b[0m\u001b[0;34m\u001b[0m\u001b[0m\n\u001b[1;32m      4\u001b[0m     \u001b[0mcolor\u001b[0m\u001b[0;34m=\u001b[0m\u001b[0;34m\"percent_diff\"\u001b[0m\u001b[0;34m,\u001b[0m\u001b[0;34m\u001b[0m\u001b[0;34m\u001b[0m\u001b[0m\n\u001b[1;32m      5\u001b[0m     \u001b[0mcolor_continuous_scale\u001b[0m\u001b[0;34m=\u001b[0m\u001b[0mpx\u001b[0m\u001b[0;34m.\u001b[0m\u001b[0mcolors\u001b[0m\u001b[0;34m.\u001b[0m\u001b[0mdiverging\u001b[0m\u001b[0;34m.\u001b[0m\u001b[0mRdBu\u001b[0m\u001b[0;34m,\u001b[0m\u001b[0;34m\u001b[0m\u001b[0;34m\u001b[0m\u001b[0m\n",
      "\u001b[0;31mNameError\u001b[0m: name 'hi' is not defined"
     ]
    }
   ],
   "source": [
    "hi\n",
    "fig = px.choropleth_mapbox(\n",
    "    grouper_subset2, geojson=geojson, locations='zcta', \n",
    "    color=\"percent_diff\",\n",
    "    color_continuous_scale=px.colors.diverging.RdBu,\n",
    "    color_continuous_midpoint=0, \n",
    "    featureidkey=\"properties.modzcta\", \n",
    "    labels={\"percent_diff\": \"% difference 2019 to 2020\"},\n",
    "    mapbox_style=\"carto-positron\",\n",
    "    zoom=9, center={\"lat\": 40.7, \"lon\": -74},\n",
    "    opacity=0.7, title=\"% difference in noise complaints due to covid per ZCTA\",\n",
    "    hover_name=\"zcta\"\n",
    ")\n",
    "fig.update_layout(margin={\"r\":0,\"t\":30,\"l\":0,\"b\":0})\n",
    "fig.show()"
   ]
  },
  {
   "cell_type": "code",
   "execution_count": 116,
   "metadata": {},
   "outputs": [],
   "source": [
    "fig.write_image(\"1.3-Noise_complaints_time_wealth_choropleth.png\")"
   ]
  },
  {
   "cell_type": "code",
   "execution_count": null,
   "metadata": {},
   "outputs": [],
   "source": []
  }
 ],
 "metadata": {
  "kernelspec": {
   "display_name": "Python 3",
   "language": "python",
   "name": "python3"
  },
  "language_info": {
   "codemirror_mode": {
    "name": "ipython",
    "version": 3
   },
   "file_extension": ".py",
   "mimetype": "text/x-python",
   "name": "python",
   "nbconvert_exporter": "python",
   "pygments_lexer": "ipython3",
   "version": "3.6.9"
  },
  "notify_time": "10",
  "toc": {
   "base_numbering": 1,
   "nav_menu": {},
   "number_sections": false,
   "sideBar": true,
   "skip_h1_title": false,
   "title_cell": "Table of Contents",
   "title_sidebar": "Contents",
   "toc_cell": false,
   "toc_position": {},
   "toc_section_display": true,
   "toc_window_display": false
  }
 },
 "nbformat": 4,
 "nbformat_minor": 4
}
