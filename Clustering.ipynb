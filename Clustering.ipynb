{
 "cells": [
  {
   "cell_type": "code",
   "execution_count": 159,
   "metadata": {},
   "outputs": [],
   "source": [
    "import pandas as pd\n",
    "from glob import glob\n",
    "import numpy as np\n",
    "import matplotlib.pyplot as plt\n",
    "from scipy import stats\n",
    "from sklearn.decomposition import PCA\n",
    "from sklearn.manifold import TSNE"
   ]
  },
  {
   "cell_type": "code",
   "execution_count": 160,
   "metadata": {},
   "outputs": [
    {
     "name": "stderr",
     "output_type": "stream",
     "text": [
      "/Users/jlrulff/anaconda3/lib/python3.6/site-packages/IPython/core/interactiveshell.py:2785: DtypeWarning: Columns (8,9,10) have mixed types. Specify dtype option on import or set low_memory=False.\n",
      "  interactivity=interactivity, compiler=compiler, result=result)\n"
     ]
    }
   ],
   "source": [
    "df = pd.read_csv(\n",
    "    './datasets/complaint_census_join.csv',  \n",
    "    names=[\n",
    "        'zcta', 'complaint datetime', 'complaint type', \n",
    "        'complaint descriptor', 'hour', 'weekday', 'year', 'geoID', 'median earning', \n",
    "        'full time median earning', 'full time mean'])\n",
    "\n",
    "## adding a helper counter\n",
    "df['counter'] = 1\n",
    "\n",
    "## cleaning\n",
    "df = df[df['median earning'] != '-']\n",
    "\n",
    "## casting meadian earning columns\n",
    "df = df.astype({'median earning': 'int'}, errors='ignore')"
   ]
  },
  {
   "cell_type": "code",
   "execution_count": 166,
   "metadata": {
    "scrolled": false
   },
   "outputs": [
    {
     "name": "stdout",
     "output_type": "stream",
     "text": [
      "Year:  2019\n",
      "Wealthiest...\n"
     ]
    },
    {
     "name": "stderr",
     "output_type": "stream",
     "text": [
      "/Users/jlrulff/anaconda3/lib/python3.6/site-packages/pandas/core/ops.py:1649: FutureWarning: elementwise comparison failed; returning scalar instead, but in the future will perform elementwise comparison\n",
      "  result = method(y)\n"
     ]
    },
    {
     "name": "stdout",
     "output_type": "stream",
     "text": [
      "Poorest...\n"
     ]
    },
    {
     "data": {
      "image/png": "[encoded data removed]",
      "text/plain": [
       "<Figure size 432x288 with 1 Axes>"
      ]
     },
     "metadata": {},
     "output_type": "display_data"
    }
   ],
   "source": [
    "# years = [2020, 2019, 2018, 2017]\n",
    "years = [2019]\n",
    "\n",
    "for year in years:\n",
    "    \n",
    "    print('Year: ', year)\n",
    "    \n",
    "    ## filtering DF\n",
    "    current_df = df[df['year'] == year]\n",
    "    \n",
    "    ## grouping DF by ZCTA and hour\n",
    "    groupby = current_df[['zcta', 'hour', 'counter', 'median earning']].groupby(by=['zcta', 'hour']).agg({'counter': 'sum', 'median earning': 'first'})\n",
    "    \n",
    "    \n",
    "#     ## clearning embeddings and earnings\n",
    "#     embeddings, earnings = get_embeddings_and_earnings(groupby)\n",
    "#     embeddings, earnings = filter_embeddings(embeddings, earnings)\n",
    "    \n",
    "#     ## plots\n",
    "#     plot_PCA(embeddings, earnings, year)\n",
    "#     plot_TSNE(embeddings, earnings, year)\n",
    "    \n",
    "    \n",
    "    ## bar plots\n",
    "    print('Wealthiest...')\n",
    "    top_k = get_top_k(current_df, False, 8)\n",
    "    xs,ys  = bar_plot(current_df, top_k)\n",
    "    plot_bar_plot(xs, ys, top_k, year, 'wealthiest')\n",
    "    \n",
    "    print('Poorest...')\n",
    "    last_k = get_top_k(current_df, True, 8)\n",
    "    xs,ys  = bar_plot(current_df, last_k)\n",
    "    plot_bar_plot(xs, ys, last_k, year, 'poorest')    \n",
    "    "
   ]
  },
  {
   "cell_type": "markdown",
   "metadata": {},
   "source": [
    "## Helper functions"
   ]
  },
  {
   "cell_type": "code",
   "execution_count": 164,
   "metadata": {},
   "outputs": [],
   "source": [
    "def filter_embeddings(embeddings, earnings):\n",
    "    \n",
    "    final_embeddings = []\n",
    "    final_earnings = []\n",
    "    \n",
    "    for i in range(embeddings.shape[0]):\n",
    "        if(len(embeddings[i]) == 24):\n",
    "            final_embeddings.append(embeddings[i])\n",
    "            final_earnings.append( earnings[i] )\n",
    "            \n",
    "    return np.array(final_embeddings), np.array(final_earnings)\n",
    "              \n",
    "def get_mode_earnings(earnings):\n",
    "    counts = np.bincount(earnings)\n",
    "    return np.argmax(counts)\n",
    "\n",
    "\n",
    "def get_embeddings_and_earnings(groupby):\n",
    "    \n",
    "    ## all different ZCTAs\n",
    "    zctas = list(groupby.index.get_level_values(0).unique())\n",
    "\n",
    "    embeddings = []\n",
    "    earnings = []\n",
    "\n",
    "    for zcta in zctas:\n",
    "\n",
    "        current_embedding = []\n",
    "        current_earnings = []\n",
    "\n",
    "        for i in range(24):\n",
    "\n",
    "            try:\n",
    "                current_earnings.append(int(groupby.loc[zcta].loc[i]['median earning']))\n",
    "                current_embedding.append(groupby.loc[zcta].loc[i]['counter'])\n",
    "            except:\n",
    "                current_earnings.append(0)\n",
    "\n",
    "        earnings.append( get_mode_earnings(current_earnings) )\n",
    "        embeddings.append(current_embedding)\n",
    "\n",
    "\n",
    "    embeddings = np.array(embeddings)\n",
    "    earnings = np.array(earnings)\n",
    "    \n",
    "    return embeddings, earnings\n",
    "\n",
    "\n",
    "\n",
    "def plot_PCA(embeddings, earnings, year):\n",
    "    \n",
    "    ## PCA Projection\n",
    "    pca = PCA(n_components=2)\n",
    "    reduced_dim_data = pca.fit_transform(embeddings)\n",
    "\n",
    "    x = reduced_dim_data[:,0]\n",
    "    y = reduced_dim_data[:,1]\n",
    "    plt.figure(figsize=(20, 10))\n",
    "    plt.scatter(x, y, c=earnings, cmap='viridis')\n",
    "    plt.colorbar()\n",
    "    plt.title('PCA: ' + str(year))\n",
    "    \n",
    "    plt.savefig('./plots/' + 'PCA_' + str(year), bbox_inches='tight', pad_inches=0)\n",
    "\n",
    "\n",
    "def plot_TSNE(embeddings, earnings, year):\n",
    "    \n",
    "    reduced_dim_data = TSNE(n_components=2).fit_transform(embeddings)\n",
    "    x = reduced_dim_data[:,0]\n",
    "    y = reduced_dim_data[:,1]\n",
    "    plt.figure(figsize=(20, 10))\n",
    "    plt.scatter(x, y, c=earnings, cmap='viridis')\n",
    "    plt.colorbar()\n",
    "    plt.title('TSNE: ' +  str(year))\n",
    "    \n",
    "    plt.savefig('./plots/' + 'TSNE_' + str(year), bbox_inches='tight', pad_inches=0)\n",
    "    \n",
    "\n",
    "\n",
    "def bar_plot(dataframe, zctas):\n",
    "    \n",
    "    hours = []\n",
    "    timeseries = []\n",
    "    \n",
    "    for zcta in zctas:\n",
    "        \n",
    "        filtered_df = dataframe[ dataframe['zcta'] == zcta ]\n",
    "        current_groupby = filtered_df[['zcta', 'hour', 'counter']].groupby(by=['zcta', 'hour']).sum()\n",
    "        current_groupby.sort_index(ascending=True, inplace=True)\n",
    "        \n",
    "        current_timeseries = list(current_groupby['counter'].values)\n",
    "        current_hours = [i for i in range(24)]\n",
    "        \n",
    "        hours.append(current_hours)\n",
    "        timeseries.append(current_timeseries)\n",
    "    \n",
    "    \n",
    "    return timeseries, hours\n",
    "\n",
    "        \n",
    "def plot_bar_plot(xs, ys, zcta, year, modifier):\n",
    "    \n",
    "    for index, x in enumerate(xs):\n",
    "        \n",
    "        if(len(x) == 24):\n",
    "            \n",
    "            plt.bar(ys[index], x, color='green')\n",
    "            plt.title(zcta[index])\n",
    "            \n",
    "            plt.savefig( './plots/bar_plots_new/' + str(year) + '_' + str(zcta[index]) + '_' + modifier, bbox_inches='tight', pad_inches=0)\n",
    "#             plt.show() \n",
    "\n",
    "        \n",
    "    \n",
    "def get_top_k(dataframe, ascending, k):\n",
    "    \n",
    "    topk = dataframe[['zcta','median earning']].groupby(by=['zcta', 'median earning']).first()\n",
    "    topk.reset_index(inplace=True)\n",
    "    topk = topk[topk['median earning'] != '-']\n",
    "    topk.sort_values(by='median earning', ascending=ascending, inplace=True)\n",
    "    topk = list(topk.iloc[0:k]['zcta'].values)\n",
    "    \n",
    "    \n",
    "    return topk"
   ]
  }
 ],
 "metadata": {
  "kernelspec": {
   "display_name": "Python 3",
   "language": "python",
   "name": "python3"
  },
  "language_info": {
   "codemirror_mode": {
    "name": "ipython",
    "version": 3
   },
   "file_extension": ".py",
   "mimetype": "text/x-python",
   "name": "python",
   "nbconvert_exporter": "python",
   "pygments_lexer": "ipython3",
   "version": "3.6.5"
  }
 },
 "nbformat": 4,
 "nbformat_minor": 2
}
